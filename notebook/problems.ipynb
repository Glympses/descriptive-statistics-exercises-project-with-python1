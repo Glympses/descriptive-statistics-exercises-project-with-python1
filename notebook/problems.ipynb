{
    "cells": [
        {
            "cell_type": "markdown",
            "id": "ac622319",
            "metadata": {},
            "source": [
                "# Descriptive statistics problems"
            ]
        },
        {
            "cell_type": "markdown",
            "id": "5e0ab0d5",
            "metadata": {},
            "source": [
                "### Exercise 1\n",
                "\n",
                "We will use NumPy to obtain information to describe statistically.\n",
                "\n",
                "- Generate an array of 100 elements following a normal distribution.\n",
                "- Generate an array of 100 elements following a chi-square distribution with 3 degrees of freedom.\n",
                "- Calculate the main metrics and statistical measures that best describe the two vectors."
            ]
        },
        {
            "cell_type": "code",
            "execution_count": 1,
            "id": "34720ab6",
            "metadata": {},
            "outputs": [],
            "source": [
                "# TODO\n",
                "\n",
                "import numpy as np\n",
                "\n",
                "array_normal = np.random.randn(100)\n",
                "array_chi2 = np.random.chisquare(100,3)\n",
                "\n",
                "#media\n",
                "\n",
                "media_normal = np.mean(array_normal)\n",
                "media_chi2 = np.mean(array_chi2)\n",
                "\n",
                "#moda\n",
                "import statistics as stats\n",
                "moda_normal = stats.mode(array_normal)\n",
                "moda_chi2 = stats.mode(array_chi2)\n",
                "\n",
                "#mediana\n",
                "mediana_normal = stats.median(array_normal)\n",
                "mediana_chi2 = stats.median(array_chi2)\n",
                "\n",
                "#rango\n",
                "rango_normal = max(array_normal) - min(array_normal)\n",
                "rango_chi2 = max(array_chi2) - min(array_chi2)\n",
                "\n",
                "#varianza\n",
                "varianza_normal = stats.variance(array_normal)\n",
                "varianza_chi2 = stats.variance(array_chi2)\n",
                "\n",
                "#desviacion estandar\n",
                "dvest_normal = stats.stdev(array_normal)\n",
                "dvest_chi2 = stats.stdev(array_chi2)\n",
                "\n",
                "#asimetria\n",
                "import scipy.stats as stats2\n",
                "asim_normal = stats2.skew(array_normal)\n",
                "asim_chi2 = stats2.skew(array_chi2)\n",
                "\n",
                "#kurtosis\n",
                "kurt_normal = stats2.kurtosis(array_normal)\n",
                "kurt_chi2 = stats2.kurtosis(array_chi2)\n",
                "\n",
                "\n",
                "\n"
            ]
        },
        {
            "cell_type": "markdown",
            "id": "46c70c3d",
            "metadata": {},
            "source": [
                "### Exercise 2\n",
                "\n",
                "Write a Python program to calculate the standard deviation of the following data:\n",
                "\n",
                "```py\n",
                "data = [4, 2, 5, 8, 6]\n",
                "```"
            ]
        },
        {
            "cell_type": "code",
            "execution_count": 3,
            "id": "d590308e",
            "metadata": {},
            "outputs": [
                {
                    "name": "stdout",
                    "output_type": "stream",
                    "text": [
                        "5.0\n",
                        "2.0\n",
                        "2.0\n"
                    ]
                }
            ],
            "source": [
                "# TODO\n",
                "\n",
                "# el promedio de suma las distancias de la media\n",
                "\n",
                "data = [4,2,5,8,6]\n",
                "\n",
                "def promedio(datos):\n",
                "    suma = 0\n",
                "    for n in datos:\n",
                "        suma += n\n",
                "    return suma/len(datos)\n",
                "\n",
                "print(promedio(data))\n",
                "\n",
                "def distancia_media(dato,media):\n",
                "    resta = dato - media\n",
                "    distancia = resta**2\n",
                "    return distancia\n",
                "import math\n",
                "\n",
                "def desv_est(datos):\n",
                "    media = promedio(datos)\n",
                "    suma_distancias = 0\n",
                "    for n in datos:\n",
                "        suma_distancias += distancia_media(n,media)\n",
                "    promedio_distancias = suma_distancias/len(datos)\n",
                "    return math.sqrt(promedio_distancias)\n",
                "\n",
                "print(desv_est(data))\n",
                "print(np.std(data))"
            ]
        }
    ],
    "metadata": {
        "interpreter": {
            "hash": "9248718ffe6ce6938b217e69dbcc175ea21f4c6b28a317e96c05334edae734bb"
        },
        "kernelspec": {
            "display_name": "Python 3.9.12 ('ML-BOOTCAMP')",
            "language": "python",
            "name": "python3"
        },
        "language_info": {
            "codemirror_mode": {
                "name": "ipython",
                "version": 3
            },
            "file_extension": ".py",
            "mimetype": "text/x-python",
            "name": "python",
            "nbconvert_exporter": "python",
            "pygments_lexer": "ipython3",
            "version": "3.11.4"
        }
    },
    "nbformat": 4,
    "nbformat_minor": 5
}
